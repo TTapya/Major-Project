{
 "cells": [
  {
   "cell_type": "markdown",
   "metadata": {
    "id": "inzYCIaib3c3"
   },
   "source": [
    "<h1>Model Development</h1>"
   ]
  },
  {
   "cell_type": "markdown",
   "metadata": {
    "id": "FYqCIxzFb3c5"
   },
   "source": [
    "## Loading Data and Libraries"
   ]
  },
  {
   "cell_type": "code",
   "execution_count": 85,
   "metadata": {
    "id": "dA1jknyqb3c_",
    "scrolled": true
   },
   "outputs": [
    {
     "data": {
      "text/html": [
       "<div>\n",
       "<style scoped>\n",
       "    .dataframe tbody tr th:only-of-type {\n",
       "        vertical-align: middle;\n",
       "    }\n",
       "\n",
       "    .dataframe tbody tr th {\n",
       "        vertical-align: top;\n",
       "    }\n",
       "\n",
       "    .dataframe thead th {\n",
       "        text-align: right;\n",
       "    }\n",
       "</style>\n",
       "<table border=\"1\" class=\"dataframe\">\n",
       "  <thead>\n",
       "    <tr style=\"text-align: right;\">\n",
       "      <th></th>\n",
       "      <th>school_state</th>\n",
       "      <th>teacher_prefix</th>\n",
       "      <th>project_grade_category</th>\n",
       "      <th>teacher_number_of_previously_posted_projects</th>\n",
       "      <th>project_is_approved</th>\n",
       "      <th>clean_categories</th>\n",
       "      <th>clean_subcategories</th>\n",
       "      <th>essay</th>\n",
       "      <th>price</th>\n",
       "    </tr>\n",
       "  </thead>\n",
       "  <tbody>\n",
       "    <tr>\n",
       "      <th>0</th>\n",
       "      <td>ca</td>\n",
       "      <td>mrs</td>\n",
       "      <td>grades_prek_2</td>\n",
       "      <td>53</td>\n",
       "      <td>1</td>\n",
       "      <td>math_science</td>\n",
       "      <td>appliedsciences health_lifescience</td>\n",
       "      <td>i fortunate enough use fairy tale stem kits cl...</td>\n",
       "      <td>725.05</td>\n",
       "    </tr>\n",
       "  </tbody>\n",
       "</table>\n",
       "</div>"
      ],
      "text/plain": [
       "  school_state teacher_prefix project_grade_category  \\\n",
       "0           ca            mrs          grades_prek_2   \n",
       "\n",
       "   teacher_number_of_previously_posted_projects  project_is_approved  \\\n",
       "0                                            53                    1   \n",
       "\n",
       "  clean_categories                 clean_subcategories  \\\n",
       "0     math_science  appliedsciences health_lifescience   \n",
       "\n",
       "                                               essay   price  \n",
       "0  i fortunate enough use fairy tale stem kits cl...  725.05  "
      ]
     },
     "execution_count": 85,
     "metadata": {},
     "output_type": "execute_result"
    }
   ],
   "source": [
    "import pandas as pd\n",
    "import numpy as np\n",
    "import matplotlib.pyplot as plt\n",
    "import seaborn as sns\n",
    "import math\n",
    "from sklearn.model_selection import train_test_split\n",
    "from sklearn.feature_extraction.text import CountVectorizer\n",
    "from sklearn.feature_extraction.text import TfidfVectorizer\n",
    "from sklearn.preprocessing import Normalizer\n",
    "from scipy.sparse import hstack\n",
    "from sklearn.naive_bayes import MultinomialNB\n",
    "from sklearn.model_selection import GridSearchCV\n",
    "from sklearn.metrics import roc_curve, auc\n",
    "from sklearn.metrics import confusion_matrix\n",
    "data = pd.read_csv('data.csv')\n",
    "l=[]\n",
    "data.shape\n",
    "data.head(1)"
   ]
  },
  {
   "cell_type": "markdown",
   "metadata": {
    "id": "WtVV13Fyb3dH"
   },
   "source": [
    "<h2>Splitting data into Train and Test sets: Stratified Sampling</h2>"
   ]
  },
  {
   "cell_type": "code",
   "execution_count": 86,
   "metadata": {
    "id": "i-PyprDNb3dI"
   },
   "outputs": [],
   "source": [
    "y=data['project_is_approved'].values\n",
    "X=data.drop(['project_is_approved'], axis=1)\n",
    "X_train, X_test, y_train, y_test=train_test_split(X, y, test_size=0.33, stratify=y)"
   ]
  },
  {
   "cell_type": "markdown",
   "metadata": {
    "id": "EnZwVNULb3dO"
   },
   "source": [
    "<h2>Essay feature Vectorization: Bag Of Words vs TF-IDF</h2>"
   ]
  },
  {
   "cell_type": "code",
   "execution_count": 87,
   "metadata": {
    "id": "-SczZKiab3dR"
   },
   "outputs": [
    {
     "name": "stdout",
     "output_type": "stream",
     "text": [
      "Essay Feature BOW Featurization:\n",
      "(73196, 8) (73196,)\n",
      "(36052, 8) (36052,)\n",
      "==================================================\n",
      "After Vectorization:\n",
      "(73196, 5000) (73196,)\n",
      "(36052, 5000) (36052,)\n",
      "====================================================================================================\n",
      "Essay Feature Tfidf Featurization:\n",
      "(73196, 8) (73196,)\n",
      "(36052, 8) (36052,)\n",
      "==================================================\n",
      "After Vectorization:\n",
      "(73196, 5000) (73196,)\n",
      "(36052, 5000) (36052,)\n"
     ]
    }
   ],
   "source": [
    "print('Essay Feature BOW Featurization:')    \n",
    "print(X_train.shape, y_train.shape)\n",
    "print(X_test.shape, y_test.shape)\n",
    "print('='*50)\n",
    "\n",
    "vectorizer=CountVectorizer(min_df=10, ngram_range=(1, 2), max_features=5000)\n",
    "vectorizer.fit(X_train['essay'].values)\n",
    "l.extend(vectorizer.get_feature_names())\n",
    "\n",
    "final_essay_vec = vectorizer\n",
    "\n",
    "X_train_essay_bow=vectorizer.transform(X_train['essay'].values)\n",
    "X_test_essay_bow=vectorizer.transform(X_test['essay'].values)\n",
    "\n",
    "print('After Vectorization:')\n",
    "print(X_train_essay_bow.shape, y_train.shape)\n",
    "print(X_test_essay_bow.shape, y_test.shape)\n",
    "\n",
    "print('='*100)\n",
    "\n",
    "print('Essay Feature Tfidf Featurization:')    \n",
    "print(X_train.shape, y_train.shape)\n",
    "print(X_test.shape, y_test.shape)\n",
    "print('='*50)\n",
    "\n",
    "vectorizer=TfidfVectorizer(min_df=10, ngram_range=(1, 2), max_features=5000)\n",
    "vectorizer.fit(X_train['essay'].values)\n",
    "\n",
    "X_train_essay_tfidf=vectorizer.transform(X_train['essay'].values)\n",
    "X_test_essay_tfidf=vectorizer.transform(X_test['essay'].values)\n",
    "\n",
    "print('After Vectorization:')\n",
    "print(X_train_essay_tfidf.shape, y_train.shape)\n",
    "print(X_test_essay_tfidf.shape, y_test.shape)"
   ]
  },
  {
   "cell_type": "markdown",
   "metadata": {
    "id": "bGy86kgHb3dX"
   },
   "source": [
    "<h2>School State feature One Hot Encoding</h2>"
   ]
  },
  {
   "cell_type": "code",
   "execution_count": 88,
   "metadata": {
    "id": "EfXkofX1b3da"
   },
   "outputs": [
    {
     "name": "stdout",
     "output_type": "stream",
     "text": [
      "School State Feature One Hot Encoding:\n",
      "(73196, 8) (73196,)\n",
      "(36052, 8) (36052,)\n",
      "==================================================\n",
      "After Vectorization:\n",
      "(73196, 51) (73196,)\n",
      "(36052, 51) (36052,)\n"
     ]
    }
   ],
   "source": [
    "print('School State Feature One Hot Encoding:')    \n",
    "print(X_train.shape, y_train.shape)\n",
    "print(X_test.shape, y_test.shape)\n",
    "print('='*50)\n",
    "\n",
    "vectorizer=CountVectorizer()\n",
    "X_train_state_ohe=vectorizer.fit_transform(X_train['school_state'].values)\n",
    "X_test_state_ohe=vectorizer.transform(X_test['school_state'].values)\n",
    "l.extend(vectorizer.get_feature_names())\n",
    "\n",
    "final_state_vec = vectorizer\n",
    "\n",
    "print('After Vectorization:')\n",
    "print(X_train_state_ohe.shape, y_train.shape)\n",
    "print(X_test_state_ohe.shape, y_test.shape)"
   ]
  },
  {
   "cell_type": "markdown",
   "metadata": {},
   "source": [
    "<h2>Teacher Prefix feature One Hot Encoding</h2>"
   ]
  },
  {
   "cell_type": "code",
   "execution_count": 89,
   "metadata": {},
   "outputs": [
    {
     "name": "stdout",
     "output_type": "stream",
     "text": [
      "Teacher Prefix Feature One Hot encoding:\n",
      "(73196, 8) (73196,)\n",
      "(36052, 8) (36052,)\n",
      "==================================================\n",
      "After Vectorziation:\n",
      "(73196, 5) (73196,)\n",
      "(36052, 5) (36052,)\n"
     ]
    }
   ],
   "source": [
    "print('Teacher Prefix Feature One Hot encoding:')\n",
    "print(X_train.shape, y_train.shape)\n",
    "print(X_test.shape, y_test.shape)\n",
    "print('='*50)\n",
    "\n",
    "vectorizer=CountVectorizer()\n",
    "X_train_prefix_ohe=vectorizer.fit_transform(X_train['teacher_prefix'].values)\n",
    "X_test_prefix_ohe=vectorizer.transform(X_test['teacher_prefix'].values)\n",
    "l.extend(vectorizer.get_feature_names())\n",
    "\n",
    "final_prefix_vec = vectorizer\n",
    "\n",
    "print('After Vectorziation:')\n",
    "print(X_train_prefix_ohe.shape, y_train.shape)\n",
    "print(X_test_prefix_ohe.shape, y_test.shape)"
   ]
  },
  {
   "cell_type": "markdown",
   "metadata": {},
   "source": [
    "<h2>Project Grade Category feature One Hot Encoding</h2>"
   ]
  },
  {
   "cell_type": "code",
   "execution_count": 90,
   "metadata": {},
   "outputs": [
    {
     "name": "stdout",
     "output_type": "stream",
     "text": [
      "Project Grade Category Feature One Hot Encoding:\n",
      "(73196, 8) (73196,)\n",
      "(36052, 8) (36052,)\n",
      "==================================================\n",
      "After Vectorization:\n",
      "(73196, 4) (73196,)\n",
      "(36052, 4) (36052,)\n"
     ]
    }
   ],
   "source": [
    "print('Project Grade Category Feature One Hot Encoding:')\n",
    "print(X_train.shape, y_train.shape)\n",
    "print(X_test.shape, y_test.shape)\n",
    "print('='*50)\n",
    "\n",
    "vectorizer=CountVectorizer()\n",
    "X_train_grade_ohe=vectorizer.fit_transform(X_train['project_grade_category'].values)\n",
    "X_test_grade_ohe=vectorizer.transform(X_test['project_grade_category'].values)\n",
    "l.extend(vectorizer.get_feature_names())\n",
    "\n",
    "final_grade_vec = vectorizer\n",
    "\n",
    "print('After Vectorization:')\n",
    "print(X_train_grade_ohe.shape, y_train.shape)\n",
    "print(X_test_grade_ohe.shape, y_test.shape)"
   ]
  },
  {
   "cell_type": "markdown",
   "metadata": {},
   "source": [
    "<h2>Categories feature One Hot Encoding</h2>"
   ]
  },
  {
   "cell_type": "code",
   "execution_count": 91,
   "metadata": {},
   "outputs": [
    {
     "name": "stdout",
     "output_type": "stream",
     "text": [
      "Clean Categories Feature One Hot Encoding:\n",
      "(73196, 8) (73196,)\n",
      "(36052, 8) (36052,)\n",
      "==================================================\n",
      "After Vectorization:\n",
      "(73196, 9) (73196,)\n",
      "(36052, 9) (36052,)\n"
     ]
    }
   ],
   "source": [
    "print('Clean Categories Feature One Hot Encoding:')\n",
    "print(X_train.shape, y_train.shape)\n",
    "print(X_test.shape, y_test.shape)\n",
    "print('='*50)\n",
    "\n",
    "vectorizer=CountVectorizer()\n",
    "X_train_cat_ohe=vectorizer.fit_transform(X_train['clean_categories'].values)\n",
    "X_test_cat_ohe=vectorizer.transform(X_test['clean_categories'].values)\n",
    "l.extend(vectorizer.get_feature_names())\n",
    "\n",
    "final_cat_vec = vectorizer\n",
    "\n",
    "print('After Vectorization:')\n",
    "print(X_train_cat_ohe.shape, y_train.shape)\n",
    "print(X_test_cat_ohe.shape, y_test.shape)"
   ]
  },
  {
   "cell_type": "markdown",
   "metadata": {},
   "source": [
    "<h2>Sub-Categories feature One Hot Encoding</h2>"
   ]
  },
  {
   "cell_type": "code",
   "execution_count": 92,
   "metadata": {},
   "outputs": [
    {
     "name": "stdout",
     "output_type": "stream",
     "text": [
      "Clean Sub Categories Feature One Hot Encoding:\n",
      "(73196, 8) (73196,)\n",
      "(36052, 8) (36052,)\n",
      "==================================================\n",
      "After Vectorization:\n",
      "(73196, 30) (73196,)\n",
      "(36052, 30) (36052,)\n"
     ]
    }
   ],
   "source": [
    "print('Clean Sub Categories Feature One Hot Encoding:')\n",
    "print(X_train.shape, y_train.shape)\n",
    "print(X_test.shape, y_test.shape)\n",
    "print('='*50)\n",
    "\n",
    "vectorizer=CountVectorizer()\n",
    "X_train_subcat_ohe=vectorizer.fit_transform(X_train['clean_subcategories'].values)\n",
    "X_test_subcat_ohe=vectorizer.transform(X_test['clean_subcategories'].values)\n",
    "l.extend(vectorizer.get_feature_names())\n",
    "\n",
    "final_subcat_vec = vectorizer\n",
    "\n",
    "print('After Vectorization:')\n",
    "print(X_train_subcat_ohe.shape, y_train.shape)\n",
    "print(X_test_subcat_ohe.shape, y_test.shape)"
   ]
  },
  {
   "cell_type": "markdown",
   "metadata": {},
   "source": [
    "<h2>Price Feature Normalization</h2>"
   ]
  },
  {
   "cell_type": "code",
   "execution_count": 93,
   "metadata": {},
   "outputs": [
    {
     "name": "stdout",
     "output_type": "stream",
     "text": [
      "Normalizing Price Feature:\n",
      "(73196, 8) (73196,)\n",
      "(36052, 8) (36052,)\n",
      "==================================================\n",
      "After Normalization:\n",
      "(1, 73196) (73196,)\n",
      "(1, 36052) (36052,)\n",
      "==================================================\n",
      "X_train_price_norm:  [[0.00076787 0.00233756 0.00197774 ... 0.00264029 0.00012698 0.00571691]]\n",
      "X_test_price_norm:  [[0.00316105 0.00115257 0.00074346 ... 0.00144125 0.00013656 0.00099582]]\n"
     ]
    }
   ],
   "source": [
    "print('Normalizing Price Feature:')\n",
    "print(X_train.shape, y_train.shape)\n",
    "print(X_test.shape, y_test.shape)\n",
    "print('='*50)\n",
    "\n",
    "normalizer=Normalizer()\n",
    "X_train_price_norm=normalizer.fit_transform(X_train['price'].values.reshape(1, -1))\n",
    "X_test_price_norm=normalizer.fit_transform(X_test['price'].values.reshape(1, -1))\n",
    "l.append('price')\n",
    "\n",
    "final_price_norm = Normalizer()\n",
    "\n",
    "print(\"After Normalization:\")\n",
    "print(X_train_price_norm.shape, y_train.shape)\n",
    "print(X_test_price_norm.shape, y_test.shape)\n",
    "print('='*50)\n",
    "print('X_train_price_norm: ', X_train_price_norm)\n",
    "print('X_test_price_norm: ', X_test_price_norm)"
   ]
  },
  {
   "cell_type": "code",
   "execution_count": 94,
   "metadata": {},
   "outputs": [
    {
     "name": "stdout",
     "output_type": "stream",
     "text": [
      "Final Data Matrix:\n",
      "(73196, 5100) (73196,)\n",
      "(36052, 5100) (36052,)\n"
     ]
    }
   ],
   "source": [
    "X_tr=hstack((X_train_essay_bow, X_train_state_ohe, X_train_prefix_ohe, X_train_grade_ohe, X_train_cat_ohe, X_train_subcat_ohe, X_train_price_norm.reshape(-1, 1))).tocsr()\n",
    "X_te=hstack((X_test_essay_bow, X_test_state_ohe, X_test_prefix_ohe, X_test_grade_ohe, X_test_cat_ohe, X_test_subcat_ohe, X_test_price_norm.reshape(-1, 1))).tocsr()\n",
    "\n",
    "# for TFIDF\n",
    "\n",
    "X_tr1=hstack((X_train_essay_tfidf, X_train_state_ohe, X_train_prefix_ohe, X_train_grade_ohe, X_train_cat_ohe, X_train_subcat_ohe, X_train_price_norm.reshape(-1, 1))).tocsr()\n",
    "X_te1=hstack((X_test_essay_tfidf, X_test_state_ohe, X_test_prefix_ohe, X_test_grade_ohe, X_test_cat_ohe, X_test_subcat_ohe, X_test_price_norm.reshape(-1, 1))).tocsr()\n",
    "\n",
    "print('Final Data Matrix:')\n",
    "print(X_tr.shape, y_train.shape)\n",
    "print(X_te.shape, y_test.shape)"
   ]
  },
  {
   "cell_type": "markdown",
   "metadata": {},
   "source": [
    "<h2>Applying Machine Learning</h2>"
   ]
  },
  {
   "cell_type": "code",
   "execution_count": 95,
   "metadata": {
    "id": "DNwqilFxb3di"
   },
   "outputs": [
    {
     "data": {
      "image/png": "[encoded data removed]",
      "text/plain": [
       "<Figure size 1080x360 with 2 Axes>"
      ]
     },
     "metadata": {
      "needs_background": "light"
     },
     "output_type": "display_data"
    },
    {
     "name": "stdout",
     "output_type": "stream",
     "text": [
      "Best alpha for BOW Featurization:  0.01\n",
      "Best alpha for TFIDF Featurization:  0.01\n"
     ]
    }
   ],
   "source": [
    "nb_model=MultinomialNB()\n",
    "parameters={'alpha': [0.01, 0.1, 0.5]}\n",
    "clf=GridSearchCV(nb_model, parameters, cv=10, scoring='roc_auc', return_train_score=True)\n",
    "clf.fit(X_tr, y_train)\n",
    "\n",
    "results=pd.DataFrame.from_dict(clf.cv_results_)\n",
    "results=results.sort_values(['param_alpha'])\n",
    "\n",
    "train_auc=results['mean_train_score']\n",
    "train_auc_std=results['std_train_score']\n",
    "test_auc=results['mean_test_score']\n",
    "test_auc_std=results['std_test_score']\n",
    "alphas=results['param_alpha']\n",
    "log_alphas=[math.log10(i) for i in alphas]\n",
    "\n",
    "plt.subplots(1, 2, figsize=(15, 5))\n",
    "plt.subplot(1, 2, 1)\n",
    "plt.plot(log_alphas, train_auc, label='Train AUC')\n",
    "plt.plot(log_alphas, test_auc, label='Test AUC')\n",
    "\n",
    "plt.scatter(log_alphas, train_auc, label='Train AUC points')\n",
    "plt.scatter(log_alphas, test_auc, label='Test AUC points')\n",
    "\n",
    "plt.title('Hyperparamter Vs AUC plot for BOW Featurization')\n",
    "plt.xlabel('\\u03B1: Hyperparameter')\n",
    "plt.ylabel('AUC')\n",
    "plt.legend()\n",
    "best_params_bow=clf.best_params_\n",
    "\n",
    "#for TFIDF\n",
    "\n",
    "nb_model=MultinomialNB()\n",
    "parameters={'alpha': [0.01, 0.1, 0.5]}\n",
    "clf=GridSearchCV(nb_model, parameters, cv=10, scoring='roc_auc', return_train_score=True)\n",
    "clf.fit(X_tr1, y_train)\n",
    "\n",
    "results=pd.DataFrame.from_dict(clf.cv_results_)\n",
    "results=results.sort_values(['param_alpha'])\n",
    "\n",
    "train_auc=results['mean_train_score']\n",
    "train_auc_std=results['std_train_score']\n",
    "test_auc=results['mean_test_score']\n",
    "test_auc_std=results['std_test_score']\n",
    "alphas=results['param_alpha']\n",
    "log_alphas=[math.log10(i) for i in alphas]\n",
    "\n",
    "plt.subplot(1, 2, 2)\n",
    "plt.plot(log_alphas, train_auc, label='Train AUC')\n",
    "plt.plot(log_alphas, test_auc, label='Test AUC')\n",
    "\n",
    "plt.scatter(log_alphas, train_auc, label='Train AUC points')\n",
    "plt.scatter(log_alphas, test_auc, label='Test AUC points')\n",
    "\n",
    "plt.title('Hyperparamter Vs AUC plot for TFIDF Featurization')\n",
    "plt.xlabel('\\u03B1: Hyperparameter')\n",
    "plt.ylabel('AUC')\n",
    "plt.legend()\n",
    "plt.show()\n",
    "best_params_tfidf=clf.best_params_\n",
    "print('Best alpha for BOW Featurization: ', best_params_bow['alpha'])\n",
    "print('Best alpha for TFIDF Featurization: ', best_params_tfidf['alpha'])"
   ]
  },
  {
   "cell_type": "code",
   "execution_count": 96,
   "metadata": {},
   "outputs": [
    {
     "data": {
      "image/png": "[encoded data removed]",
      "text/plain": [
       "<Figure size 1080x360 with 2 Axes>"
      ]
     },
     "metadata": {
      "needs_background": "light"
     },
     "output_type": "display_data"
    }
   ],
   "source": [
    "nb_model=MultinomialNB(alpha=best_params_bow['alpha'])\n",
    "nb_model.fit(X_tr, y_train)\n",
    "\n",
    "final_model = nb_model\n",
    "\n",
    "y_train_pred_bow=nb_model.predict_proba(X_tr)[:,1]\n",
    "y_test_pred_bow=nb_model.predict_proba(X_te)[:,1]\n",
    "\n",
    "train_fpr_bow, train_tpr_bow, tr_thresholds_bow=roc_curve(y_train, y_train_pred_bow)\n",
    "test_fpr_bow, test_tpr_bow, te_thresholds_bow=roc_curve(y_test, y_test_pred_bow)\n",
    "\n",
    "plt.subplots(1, 2, figsize=(15, 5))\n",
    "plt.subplot(1, 2, 1)\n",
    "plt.plot(train_fpr_bow, train_tpr_bow, label='Train AUC = '+str(auc(train_fpr_bow, train_tpr_bow)))\n",
    "plt.plot(test_fpr_bow, test_tpr_bow, label='Test AUC = '+str(auc(test_fpr_bow, test_tpr_bow)))\n",
    "\n",
    "plt.title('ROC Curve for BOW Featurization')\n",
    "plt.xlabel('FPR')\n",
    "plt.ylabel('TPR')\n",
    "plt.legend()\n",
    "\n",
    "# for TFIDF\n",
    "\n",
    "nb_model=MultinomialNB(alpha=best_params_tfidf['alpha'])\n",
    "nb_model.fit(X_tr1, y_train)\n",
    "\n",
    "y_train_pred_tfidf=nb_model.predict_proba(X_tr1)[:,1]\n",
    "y_test_pred_tfidf=nb_model.predict_proba(X_te1)[:,1]\n",
    "\n",
    "train_fpr_tfidf, train_tpr_tfidf, tr_thresholds_tfidf=roc_curve(y_train, y_train_pred_tfidf)\n",
    "test_fpr_tfidf, test_tpr_tfidf, te_thresholds_tfidf=roc_curve(y_test, y_test_pred_tfidf)\n",
    "\n",
    "plt.subplot(1, 2, 2)\n",
    "plt.plot(train_fpr_tfidf, train_tpr_tfidf, label='Train AUC = '+str(auc(train_fpr_tfidf, train_tpr_tfidf)))\n",
    "plt.plot(test_fpr_tfidf, test_tpr_tfidf, label='Test AUC = '+str(auc(test_fpr_tfidf, test_tpr_tfidf)))\n",
    "\n",
    "plt.title('ROC Curve for TFIDF Featurization')\n",
    "plt.xlabel('FPR')\n",
    "plt.ylabel('TPR')\n",
    "plt.legend()\n",
    "plt.show()"
   ]
  },
  {
   "cell_type": "code",
   "execution_count": null,
   "metadata": {},
   "outputs": [],
   "source": [
    "def predict_with_best_t(proba, threshold):\n",
    "    predictions=[]\n",
    "    for i in proba:\n",
    "        if i>=threshold:\n",
    "            predictions.append(1)\n",
    "        else:\n",
    "            predictions.append(0)\n",
    "    return predictions\n",
    "best_t_bow=tr_thresholds_bow[np.argmax(train_tpr_bow*(1-train_fpr_bow))]\n",
    "plt.subplots(2, 2, figsize=(10, 7))\n",
    "plt.subplot(2, 2, 1)\n",
    "cm_train_bow=confusion_matrix(y_train, predict_with_best_t(y_train_pred_bow, best_t_bow))\n",
    "sns.heatmap(cm_train_bow, annot=True, fmt='d', cmap='Blues')\n",
    "plt.title('Train Confusion Matrix  BOW')\n",
    "\n",
    "plt.subplot(2, 2, 2)\n",
    "cm_test_bow=confusion_matrix(y_test, predict_with_best_t(y_test_pred_bow, best_t_bow))\n",
    "sns.heatmap(cm_test_bow, annot=True, fmt='d', cmap='Blues')\n",
    "plt.title('Test Confusion Matrix BOW')\n",
    "\n",
    "# for TFIDF\n",
    "\n",
    "best_t_tfidf=tr_thresholds_tfidf[np.argmax(train_tpr_tfidf*(1-train_fpr_tfidf))]\n",
    "plt.subplot(2, 2, 3)\n",
    "cm_train_tfidf=confusion_matrix(y_train, predict_with_best_t(y_train_pred_tfidf, best_t_tfidf))\n",
    "sns.heatmap(cm_train_tfidf, annot=True, fmt='d', cmap='Blues')\n",
    "plt.title('Train Confusion Matrix TFIDF')\n",
    "\n",
    "plt.subplot(2, 2, 4)\n",
    "cm_test_tfidf=confusion_matrix(y_test, predict_with_best_t(y_test_pred_tfidf, best_t_tfidf))\n",
    "sns.heatmap(cm_test_tfidf, annot=True, fmt='d', cmap='Blues')\n",
    "plt.title('Test Confusion Matrix TFIDF')\n",
    "plt.show()"
   ]
  },
  {
   "cell_type": "code",
   "execution_count": null,
   "metadata": {},
   "outputs": [],
   "source": [
    "data.head(1)"
   ]
  },
  {
   "cell_type": "code",
   "execution_count": null,
   "metadata": {},
   "outputs": [],
   "source": [
    "essay = data.head(1)['essay'][0]\n",
    "essay"
   ]
  },
  {
   "cell_type": "code",
   "execution_count": null,
   "metadata": {},
   "outputs": [],
   "source": [
    "essay_ready = final_essay_vec.transform([essay])\n",
    "essay_ready"
   ]
  },
  {
   "cell_type": "code",
   "execution_count": null,
   "metadata": {},
   "outputs": [],
   "source": [
    "state = data.head(1)['school_state'][0]\n",
    "state"
   ]
  },
  {
   "cell_type": "code",
   "execution_count": null,
   "metadata": {},
   "outputs": [],
   "source": [
    "state_ready = final_state_vec.transform([state])\n",
    "state_ready"
   ]
  },
  {
   "cell_type": "code",
   "execution_count": null,
   "metadata": {},
   "outputs": [],
   "source": [
    "prefix = data.head(1)['teacher_prefix'][0]\n",
    "prefix"
   ]
  },
  {
   "cell_type": "code",
   "execution_count": null,
   "metadata": {},
   "outputs": [],
   "source": [
    "prefix_ready = final_prefix_vec.transform([prefix])\n",
    "prefix_ready"
   ]
  },
  {
   "cell_type": "code",
   "execution_count": null,
   "metadata": {},
   "outputs": [],
   "source": [
    "grade = data.head(1)['project_grade_category'][0]\n",
    "grade"
   ]
  },
  {
   "cell_type": "code",
   "execution_count": null,
   "metadata": {},
   "outputs": [],
   "source": [
    "grade_ready = final_grade_vec.transform([grade])\n",
    "grade_ready"
   ]
  },
  {
   "cell_type": "code",
   "execution_count": null,
   "metadata": {},
   "outputs": [],
   "source": [
    "cat = data.head(1)['clean_categories'][0]\n",
    "cat"
   ]
  },
  {
   "cell_type": "code",
   "execution_count": null,
   "metadata": {},
   "outputs": [],
   "source": [
    "cat_ready = final_cat_vec.transform([cat])\n",
    "cat_ready"
   ]
  },
  {
   "cell_type": "code",
   "execution_count": null,
   "metadata": {},
   "outputs": [],
   "source": [
    "subcat = data.head(1)['clean_subcategories'][0]\n",
    "subcat"
   ]
  },
  {
   "cell_type": "code",
   "execution_count": null,
   "metadata": {},
   "outputs": [],
   "source": [
    "subcat_ready = final_subcat_vec.transform([subcat])\n",
    "subcat_ready"
   ]
  },
  {
   "cell_type": "code",
   "execution_count": null,
   "metadata": {},
   "outputs": [],
   "source": [
    "price = np.array(data.head(1)['price'][0])\n",
    "price"
   ]
  },
  {
   "cell_type": "code",
   "execution_count": null,
   "metadata": {},
   "outputs": [],
   "source": [
    "price_ready = final_price_norm.transform(price.reshape(1, -1))\n",
    "price_ready"
   ]
  },
  {
   "cell_type": "code",
   "execution_count": null,
   "metadata": {},
   "outputs": [],
   "source": [
    "sample = hstack((essay_ready, state_ready, prefix_ready, grade_ready, cat_ready, subcat_ready, 1)).tocsr()"
   ]
  },
  {
   "cell_type": "code",
   "execution_count": null,
   "metadata": {},
   "outputs": [],
   "source": [
    "prediction = final_model.predict_proba(sample)[:,1][0]\n",
    "prediction"
   ]
  },
  {
   "cell_type": "code",
   "execution_count": null,
   "metadata": {},
   "outputs": [],
   "source": [
    "!mkdir models"
   ]
  },
  {
   "cell_type": "code",
   "execution_count": null,
   "metadata": {},
   "outputs": [],
   "source": [
    "import pickle\n",
    "with open('models/final_model.pkl', 'wb') as file:\n",
    "    pickle.dump(final_model, file)"
   ]
  },
  {
   "cell_type": "code",
   "execution_count": null,
   "metadata": {},
   "outputs": [],
   "source": [
    "with open('models/final_essay_vec.pkl', 'wb') as file:\n",
    "    pickle.dump(final_essay_vec, file)"
   ]
  },
  {
   "cell_type": "code",
   "execution_count": null,
   "metadata": {},
   "outputs": [],
   "source": [
    "with open('models/final_state_vec.pkl', 'wb') as file:\n",
    "    pickle.dump(final_state_vec, file)"
   ]
  },
  {
   "cell_type": "code",
   "execution_count": null,
   "metadata": {},
   "outputs": [],
   "source": [
    "with open('models/final_prefix_vec.pkl', 'wb') as file:\n",
    "    pickle.dump(final_prefix_vec, file)"
   ]
  },
  {
   "cell_type": "code",
   "execution_count": null,
   "metadata": {},
   "outputs": [],
   "source": [
    "with open('models/final_grade_vec.pkl', 'wb') as file:\n",
    "    pickle.dump(final_grade_vec, file)"
   ]
  },
  {
   "cell_type": "code",
   "execution_count": null,
   "metadata": {},
   "outputs": [],
   "source": [
    "with open('models/final_cat_vec.pkl', 'wb') as file:\n",
    "    pickle.dump(final_cat_vec, file)"
   ]
  },
  {
   "cell_type": "code",
   "execution_count": null,
   "metadata": {},
   "outputs": [],
   "source": [
    "with open('models/final_subcat_vec.pkl', 'wb') as file:\n",
    "    pickle.dump(final_subcat_vec, file)"
   ]
  },
  {
   "cell_type": "code",
   "execution_count": null,
   "metadata": {},
   "outputs": [],
   "source": [
    "with open('models/final_price_norm.pkl', 'wb') as file:\n",
    "    pickle.dump(final_price_norm, file)"
   ]
  },
  {
   "cell_type": "markdown",
   "metadata": {
    "id": "lS9hIHdib3dp"
   },
   "source": [
    "<h1>Summary</h1>"
   ]
  },
  {
   "cell_type": "code",
   "execution_count": null,
   "metadata": {},
   "outputs": [],
   "source": [
    "from prettytable import PrettyTable\n",
    "x=PrettyTable()\n",
    "x.field_names=['Vectorizer', 'Model', 'Hyperparameter', 'AUC']\n",
    "x.add_row(['BOW', 'Multinomial Naive Bayes', best_params_bow['alpha'], auc(test_fpr_bow, test_tpr_bow)])\n",
    "x.add_row(['TFIDF', 'Multinomial Naive Bayes', best_params_tfidf['alpha'], auc(test_fpr_tfidf, test_tpr_tfidf)])\n",
    "print(x)"
   ]
  }
 ],
 "metadata": {
  "colab": {
   "collapsed_sections": [],
   "name": "6_Assignment_NB_Instructions.ipynb",
   "provenance": []
  },
  "kernelspec": {
   "display_name": "Python 3",
   "language": "python",
   "name": "python3"
  },
  "language_info": {
   "codemirror_mode": {
    "name": "ipython",
    "version": 3
   },
   "file_extension": ".py",
   "mimetype": "text/x-python",
   "name": "python",
   "nbconvert_exporter": "python",
   "pygments_lexer": "ipython3",
   "version": "3.8.8"
  }
 },
 "nbformat": 4,
 "nbformat_minor": 1
}
